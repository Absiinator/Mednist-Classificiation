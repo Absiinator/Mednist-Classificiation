{
 "cells": [
  {
   "cell_type": "code",
   "execution_count": 13,
   "metadata": {},
   "outputs": [],
   "source": [
    "import numpy as np\n",
    "import pandas as pd\n",
    "import os\n",
    "import time\n",
    "%matplotlib inline\n",
    "import matplotlib.pyplot as mp\n",
    "from PIL import Image\n",
    "import tensorflow as tf\n",
    "\n",
    "from tensorflow.keras.preprocessing.image import ImageDataGenerator\n",
    "from tensorflow.keras.optimizers import Adam\n",
    "from tensorflow.keras.preprocessing.image import img_to_array\n",
    "from tensorflow.keras.utils import to_categorical, plot_model\n",
    "from tensorflow.keras.models import Sequential\n",
    "from tensorflow.keras.layers import BatchNormalization, Conv2D, MaxPooling2D, Activation, Flatten, Dropout, Dense\n",
    "from tensorflow.keras import backend as K\n",
    "from sklearn.model_selection import train_test_split\n",
    "import matplotlib.pyplot as plt\n",
    "import numpy as np\n",
    "import random\n",
    "import cv2\n",
    "import os\n",
    "import glob"
   ]
  },
  {
   "cell_type": "code",
   "execution_count": 14,
   "metadata": {},
   "outputs": [],
   "source": [
    "dataDir = 'resized'\n",
    "\n",
    "# Hyperparameters\n",
    "batch_size = 300\n",
    "split = 0.1\n",
    "epochs = 30\n",
    "lr = 0.001\n"
   ]
  },
  {
   "cell_type": "code",
   "execution_count": 15,
   "metadata": {},
   "outputs": [
    {
     "name": "stdout",
     "output_type": "stream",
     "text": [
      "(64, 64, 3)\n"
     ]
    }
   ],
   "source": [
    "image_files = [f for f in glob.glob(r'resized' + \"/**/*\", recursive=True) if not os.path.isdir(f)]\n",
    "random.seed(42)\n",
    "random.shuffle(image_files)\n",
    "\n",
    "img_dims = (64,64,3)\n",
    "num_classes = 6\n",
    "\n",
    "data = []\n",
    "labels = []\n",
    "\n",
    "# converting images to arrays and labelling the categories\n",
    "for img in image_files:\n",
    "\n",
    "    image = cv2.imread(img)\n",
    "    \n",
    "    image = cv2.resize(image, (img_dims[0],img_dims[1]))\n",
    "    image = img_to_array(image)\n",
    "        \n",
    "    data.append(image)\n",
    "\n",
    "    label = img.split(os.path.sep)[-2] # C:\\Files\\gender_dataset_face\\woman\\face_1162.jpg\n",
    "    if label == \"AbdomenCT\":\n",
    "        label = 0\n",
    "    elif label == \"BreastMRI\":\n",
    "        label = 1\n",
    "    elif label == 'ChestCT':\n",
    "        label = 2\n",
    "    elif label =='CXR':\n",
    "        label = 3\n",
    "    elif label == 'Hand':\n",
    "        label = 4\n",
    "    elif label == 'HeadCT':\n",
    "        label = 5\n",
    "        \n",
    "    labels.append([label]) # [[1], [0], [0], ...]\n",
    "print(data[0].shape)\n"
   ]
  },
  {
   "cell_type": "code",
   "execution_count": 16,
   "metadata": {},
   "outputs": [],
   "source": [
    "# pre-processing\n",
    "data = np.array(data, dtype=\"float\") / 255.0\n",
    "labels = np.array(labels)\n",
    "\n",
    "# split dataset for training and validation\n",
    "(trainX, testX, trainY, testY) = train_test_split(data, labels, test_size=0.15,\n",
    "                                                  random_state=42)\n",
    "\n",
    "trainY = to_categorical(trainY, num_classes=num_classes) # [[1, 0], [0, 1], [0, 1], ...]\n",
    "testY = to_categorical(testY, num_classes=num_classes)"
   ]
  },
  {
   "cell_type": "code",
   "execution_count": 17,
   "metadata": {},
   "outputs": [
    {
     "name": "stdout",
     "output_type": "stream",
     "text": [
      "Model: \"sequential_1\"\n",
      "_________________________________________________________________\n",
      " Layer (type)                Output Shape              Param #   \n",
      "=================================================================\n",
      " conv2d_2 (Conv2D)           (None, 64, 64, 7)         196       \n",
      "                                                                 \n",
      " batch_normalization (BatchN  (None, 64, 64, 7)        28        \n",
      " ormalization)                                                   \n",
      "                                                                 \n",
      " activation_4 (Activation)   (None, 64, 64, 7)         0         \n",
      "                                                                 \n",
      " max_pooling2d_2 (MaxPooling  (None, 32, 32, 7)        0         \n",
      " 2D)                                                             \n",
      "                                                                 \n",
      " dropout_3 (Dropout)         (None, 32, 32, 7)         0         \n",
      "                                                                 \n",
      " conv2d_3 (Conv2D)           (None, 32, 32, 14)        406       \n",
      "                                                                 \n",
      " batch_normalization_1 (Batc  (None, 32, 32, 14)       56        \n",
      " hNormalization)                                                 \n",
      "                                                                 \n",
      " activation_5 (Activation)   (None, 32, 32, 14)        0         \n",
      "                                                                 \n",
      " max_pooling2d_3 (MaxPooling  (None, 16, 16, 14)       0         \n",
      " 2D)                                                             \n",
      "                                                                 \n",
      " dropout_4 (Dropout)         (None, 16, 16, 14)        0         \n",
      "                                                                 \n",
      " flatten_1 (Flatten)         (None, 3584)              0         \n",
      "                                                                 \n",
      " dense_3 (Dense)             (None, 128)               458880    \n",
      "                                                                 \n",
      " activation_6 (Activation)   (None, 128)               0         \n",
      "                                                                 \n",
      " dense_4 (Dense)             (None, 6)                 774       \n",
      "                                                                 \n",
      "=================================================================\n",
      "Total params: 460,340\n",
      "Trainable params: 460,298\n",
      "Non-trainable params: 42\n",
      "_________________________________________________________________\n"
     ]
    }
   ],
   "source": [
    "# define model\n",
    "def build(width, height, depth, classes):\n",
    "    model = Sequential()\n",
    "    inputShape = (height, width, depth)\n",
    "    chanDim = -1\n",
    "\n",
    "    if K.image_data_format() == \"channels_first\": #Returns a string, either 'channels_first' or 'channels_last'\n",
    "        inputShape = (depth, height, width)\n",
    "        chanDim = 1\n",
    "    \n",
    "    # The axis that should be normalized, after a Conv2D layer with data_format=\"channels_first\", \n",
    "    # set axis=1 in BatchNormalization.\n",
    "\n",
    "    model.add(Conv2D(7, (3, 3), padding=\"same\", input_shape=inputShape)),\n",
    "    model.add(BatchNormalization(axis=chanDim)),\n",
    "    model.add(Activation(\"relu\")),\n",
    "    model.add(MaxPooling2D(pool_size=(2, 2))),\n",
    "    model.add(Dropout(0.25)),\n",
    "\n",
    "    model.add(Conv2D(14, (2, 2), padding=\"same\")),\n",
    "    model.add(BatchNormalization(axis=chanDim)),\n",
    "    model.add(Activation(\"relu\")),\n",
    "    model.add(MaxPooling2D(pool_size=(2, 2))),\n",
    "    model.add(Dropout(0.25)),\n",
    "\n",
    "    model.add(Flatten()),\n",
    "    model.add(Dense(128)),\n",
    "    model.add(Activation(\"relu\")),\n",
    "    model.add(Dense(classes, activation=\"softmax\")),\n",
    "\n",
    "    return model\n",
    "\n",
    "# build model\n",
    "model = build(width=img_dims[0], height=img_dims[1], depth=img_dims[2],\n",
    "                            classes=6)\n",
    "model.summary()\n"
   ]
  },
  {
   "cell_type": "code",
   "execution_count": 18,
   "metadata": {},
   "outputs": [],
   "source": [
    "model.compile(\n",
    "  optimizer=tf.keras.optimizers.Adam(learning_rate=lr),\n",
    "  loss='categorical_crossentropy',\n",
    "  metrics=['categorical_crossentropy', 'accuracy'])"
   ]
  },
  {
   "cell_type": "code",
   "execution_count": 19,
   "metadata": {},
   "outputs": [],
   "source": [
    "# augmenting datset \n",
    "aug = ImageDataGenerator(rotation_range=25, width_shift_range=0.1,\n",
    "                         height_shift_range=0.1, shear_range=0.2, zoom_range=0.3,\n",
    "                         horizontal_flip=True,vertical_flip=True, fill_mode=\"nearest\")"
   ]
  },
  {
   "cell_type": "code",
   "execution_count": 20,
   "metadata": {},
   "outputs": [
    {
     "name": "stdout",
     "output_type": "stream",
     "text": [
      "Epoch 1/30\n"
     ]
    },
    {
     "name": "stderr",
     "output_type": "stream",
     "text": [
      "2022-05-06 09:11:50.443381: I tensorflow/core/grappler/optimizers/custom_graph_optimizer_registry.cc:113] Plugin optimizer for device_type GPU is enabled.\n"
     ]
    },
    {
     "name": "stdout",
     "output_type": "stream",
     "text": [
      "167/167 [==============================] - ETA: 0s - loss: 0.3311 - categorical_crossentropy: 0.3311 - accuracy: 0.9090"
     ]
    },
    {
     "name": "stderr",
     "output_type": "stream",
     "text": [
      "2022-05-06 09:12:14.621914: I tensorflow/core/grappler/optimizers/custom_graph_optimizer_registry.cc:113] Plugin optimizer for device_type GPU is enabled.\n"
     ]
    },
    {
     "name": "stdout",
     "output_type": "stream",
     "text": [
      "167/167 [==============================] - 26s 148ms/step - loss: 0.3311 - categorical_crossentropy: 0.3311 - accuracy: 0.9090 - val_loss: 1.1512 - val_categorical_crossentropy: 1.1512 - val_accuracy: 0.5845\n",
      "Epoch 2/30\n",
      "167/167 [==============================] - 23s 136ms/step - loss: 0.0605 - categorical_crossentropy: 0.0605 - accuracy: 0.9815 - val_loss: 0.3948 - val_categorical_crossentropy: 0.3948 - val_accuracy: 0.8469\n",
      "Epoch 3/30\n",
      "167/167 [==============================] - 22s 133ms/step - loss: 0.0458 - categorical_crossentropy: 0.0458 - accuracy: 0.9847 - val_loss: 0.0575 - val_categorical_crossentropy: 0.0575 - val_accuracy: 0.9893\n",
      "Epoch 4/30\n",
      "167/167 [==============================] - 22s 133ms/step - loss: 0.0376 - categorical_crossentropy: 0.0376 - accuracy: 0.9877 - val_loss: 0.0300 - val_categorical_crossentropy: 0.0300 - val_accuracy: 0.9923\n",
      "Epoch 5/30\n",
      "167/167 [==============================] - 22s 131ms/step - loss: 0.0351 - categorical_crossentropy: 0.0351 - accuracy: 0.9881 - val_loss: 0.0805 - val_categorical_crossentropy: 0.0805 - val_accuracy: 0.9744\n",
      "Epoch 6/30\n",
      "167/167 [==============================] - 23s 134ms/step - loss: 0.0345 - categorical_crossentropy: 0.0345 - accuracy: 0.9887 - val_loss: 0.0157 - val_categorical_crossentropy: 0.0157 - val_accuracy: 0.9965\n",
      "Epoch 7/30\n",
      "167/167 [==============================] - 23s 135ms/step - loss: 0.0324 - categorical_crossentropy: 0.0324 - accuracy: 0.9893 - val_loss: 0.0187 - val_categorical_crossentropy: 0.0187 - val_accuracy: 0.9963\n",
      "Epoch 8/30\n",
      "167/167 [==============================] - 23s 134ms/step - loss: 0.0579 - categorical_crossentropy: 0.0579 - accuracy: 0.9825 - val_loss: 0.0136 - val_categorical_crossentropy: 0.0136 - val_accuracy: 0.9968\n",
      "Epoch 9/30\n",
      "167/167 [==============================] - 22s 134ms/step - loss: 0.0310 - categorical_crossentropy: 0.0310 - accuracy: 0.9899 - val_loss: 0.0134 - val_categorical_crossentropy: 0.0134 - val_accuracy: 0.9973\n",
      "Epoch 10/30\n",
      "167/167 [==============================] - 22s 133ms/step - loss: 0.0285 - categorical_crossentropy: 0.0285 - accuracy: 0.9910 - val_loss: 0.0122 - val_categorical_crossentropy: 0.0122 - val_accuracy: 0.9972\n",
      "Epoch 11/30\n",
      "167/167 [==============================] - 22s 134ms/step - loss: 0.0221 - categorical_crossentropy: 0.0221 - accuracy: 0.9928 - val_loss: 0.0099 - val_categorical_crossentropy: 0.0099 - val_accuracy: 0.9973\n",
      "Epoch 12/30\n",
      "167/167 [==============================] - 22s 132ms/step - loss: 0.0186 - categorical_crossentropy: 0.0186 - accuracy: 0.9939 - val_loss: 0.0118 - val_categorical_crossentropy: 0.0118 - val_accuracy: 0.9967\n",
      "Epoch 13/30\n",
      "167/167 [==============================] - 22s 132ms/step - loss: 0.0187 - categorical_crossentropy: 0.0187 - accuracy: 0.9941 - val_loss: 0.0077 - val_categorical_crossentropy: 0.0077 - val_accuracy: 0.9983\n",
      "Epoch 14/30\n",
      "167/167 [==============================] - 22s 133ms/step - loss: 0.0169 - categorical_crossentropy: 0.0169 - accuracy: 0.9944 - val_loss: 0.0074 - val_categorical_crossentropy: 0.0074 - val_accuracy: 0.9979\n",
      "Epoch 15/30\n",
      "167/167 [==============================] - 22s 134ms/step - loss: 0.0161 - categorical_crossentropy: 0.0161 - accuracy: 0.9952 - val_loss: 0.0066 - val_categorical_crossentropy: 0.0066 - val_accuracy: 0.9981\n",
      "Epoch 16/30\n",
      "167/167 [==============================] - 23s 136ms/step - loss: 0.0148 - categorical_crossentropy: 0.0148 - accuracy: 0.9952 - val_loss: 0.0080 - val_categorical_crossentropy: 0.0080 - val_accuracy: 0.9976\n",
      "Epoch 17/30\n",
      "167/167 [==============================] - 22s 134ms/step - loss: 0.0161 - categorical_crossentropy: 0.0161 - accuracy: 0.9952 - val_loss: 0.0150 - val_categorical_crossentropy: 0.0150 - val_accuracy: 0.9957\n",
      "Epoch 18/30\n",
      "167/167 [==============================] - 23s 136ms/step - loss: 0.0136 - categorical_crossentropy: 0.0136 - accuracy: 0.9958 - val_loss: 0.0056 - val_categorical_crossentropy: 0.0056 - val_accuracy: 0.9985\n",
      "Epoch 19/30\n",
      "167/167 [==============================] - 22s 130ms/step - loss: 0.0250 - categorical_crossentropy: 0.0250 - accuracy: 0.9923 - val_loss: 0.0076 - val_categorical_crossentropy: 0.0076 - val_accuracy: 0.9982\n",
      "Epoch 20/30\n",
      "167/167 [==============================] - 22s 130ms/step - loss: 0.0167 - categorical_crossentropy: 0.0167 - accuracy: 0.9945 - val_loss: 0.0818 - val_categorical_crossentropy: 0.0818 - val_accuracy: 0.9772\n",
      "Epoch 21/30\n",
      "167/167 [==============================] - 23s 135ms/step - loss: 0.0225 - categorical_crossentropy: 0.0225 - accuracy: 0.9932 - val_loss: 0.0054 - val_categorical_crossentropy: 0.0054 - val_accuracy: 0.9988\n",
      "Epoch 22/30\n",
      "167/167 [==============================] - 23s 137ms/step - loss: 0.0120 - categorical_crossentropy: 0.0120 - accuracy: 0.9961 - val_loss: 0.0055 - val_categorical_crossentropy: 0.0055 - val_accuracy: 0.9984\n",
      "Epoch 23/30\n",
      "167/167 [==============================] - 23s 138ms/step - loss: 0.0197 - categorical_crossentropy: 0.0197 - accuracy: 0.9935 - val_loss: 0.0159 - val_categorical_crossentropy: 0.0159 - val_accuracy: 0.9966\n",
      "Epoch 24/30\n",
      "167/167 [==============================] - 22s 133ms/step - loss: 0.0157 - categorical_crossentropy: 0.0157 - accuracy: 0.9947 - val_loss: 0.0048 - val_categorical_crossentropy: 0.0048 - val_accuracy: 0.9988\n",
      "Epoch 25/30\n",
      "167/167 [==============================] - 22s 132ms/step - loss: 0.0102 - categorical_crossentropy: 0.0102 - accuracy: 0.9965 - val_loss: 0.0060 - val_categorical_crossentropy: 0.0060 - val_accuracy: 0.9988\n",
      "Epoch 26/30\n",
      "167/167 [==============================] - 22s 130ms/step - loss: 0.0094 - categorical_crossentropy: 0.0094 - accuracy: 0.9968 - val_loss: 0.0044 - val_categorical_crossentropy: 0.0044 - val_accuracy: 0.9990\n",
      "Epoch 27/30\n",
      "167/167 [==============================] - 22s 131ms/step - loss: 0.0116 - categorical_crossentropy: 0.0116 - accuracy: 0.9963 - val_loss: 0.0041 - val_categorical_crossentropy: 0.0041 - val_accuracy: 0.9988\n",
      "Epoch 28/30\n",
      "167/167 [==============================] - 22s 131ms/step - loss: 0.0133 - categorical_crossentropy: 0.0133 - accuracy: 0.9959 - val_loss: 0.0096 - val_categorical_crossentropy: 0.0096 - val_accuracy: 0.9977\n",
      "Epoch 29/30\n",
      "167/167 [==============================] - 22s 132ms/step - loss: 0.0139 - categorical_crossentropy: 0.0139 - accuracy: 0.9956 - val_loss: 0.0043 - val_categorical_crossentropy: 0.0043 - val_accuracy: 0.9989\n",
      "Epoch 30/30\n",
      "167/167 [==============================] - 22s 132ms/step - loss: 0.0092 - categorical_crossentropy: 0.0092 - accuracy: 0.9970 - val_loss: 0.0048 - val_categorical_crossentropy: 0.0048 - val_accuracy: 0.9985\n"
     ]
    }
   ],
   "source": [
    "# train the model\n",
    "H = model.fit(aug.flow(trainX, trainY, batch_size=batch_size),\n",
    "                        validation_data=(testX,testY),\n",
    "                        steps_per_epoch=len(trainX) // batch_size,\n",
    "                        epochs=epochs, verbose=1)"
   ]
  },
  {
   "cell_type": "code",
   "execution_count": 21,
   "metadata": {},
   "outputs": [
    {
     "data": {
      "image/png": "[encoded data removed]",
      "text/plain": [
       "<Figure size 432x288 with 1 Axes>"
      ]
     },
     "metadata": {},
     "output_type": "display_data"
    }
   ],
   "source": [
    "# plot training/validation loss/accuracy\n",
    "plt.style.use(\"ggplot\")\n",
    "plt.figure()\n",
    "N = epochs\n",
    "plt.plot(np.arange(0,N), H.history[\"loss\"], label=\"train_loss\")\n",
    "plt.plot(np.arange(0,N), H.history[\"val_loss\"], label=\"val_loss\")\n",
    "plt.plot(np.arange(0,N), H.history[\"accuracy\"], label=\"train_acc\")\n",
    "plt.plot(np.arange(0,N), H.history[\"val_accuracy\"], label=\"val_acc\")\n",
    "\n",
    "\n",
    "plt.title(\"Training Loss and Accuracy\")\n",
    "plt.xlabel(\"Epoch #\")\n",
    "plt.ylabel(\"Loss/Accuracy\")\n",
    "plt.legend(loc=\"upper left\")\n",
    "\n",
    "# save plot to disk\n",
    "plt.savefig('plot.png')"
   ]
  },
  {
   "cell_type": "code",
   "execution_count": 25,
   "metadata": {},
   "outputs": [
    {
     "name": "stderr",
     "output_type": "stream",
     "text": [
      "2022-05-06 09:23:22.828855: W tensorflow/python/util/util.cc:368] Sets are not currently considered sequences, but this may change in the future, so consider avoiding using them.\n"
     ]
    },
    {
     "name": "stdout",
     "output_type": "stream",
     "text": [
      "INFO:tensorflow:Assets written to: ram://0f0c6952-6884-4f57-a041-684cb29f4e96/assets\n"
     ]
    }
   ],
   "source": [
    "import pickle\n",
    "\n",
    "pickle.dump(model, open('model.pkl', 'wb'))"
   ]
  },
  {
   "cell_type": "code",
   "execution_count": 23,
   "metadata": {},
   "outputs": [
    {
     "name": "stderr",
     "output_type": "stream",
     "text": [
      "2022-05-06 09:23:05.125537: I tensorflow/core/grappler/optimizers/custom_graph_optimizer_registry.cc:113] Plugin optimizer for device_type GPU is enabled.\n"
     ]
    }
   ],
   "source": [
    "confusion = tf.math.confusion_matrix(testY.argmax(axis=1), model.predict(testX).argmax(axis=1), num_classes=6)"
   ]
  },
  {
   "cell_type": "code",
   "execution_count": 24,
   "metadata": {},
   "outputs": [
    {
     "name": "stdout",
     "output_type": "stream",
     "text": [
      "Correct predictions:  8831 of 8844\n",
      "Accuracy:  99.85300768882858 %\n",
      "tf.Tensor(\n",
      "[[1473    0    0    0    0    0]\n",
      " [   0 1327    0    0    0    0]\n",
      " [   0    0 1512    0    0    0]\n",
      " [   0    0    0 1528    2    1]\n",
      " [   0    3    0    3 1492    4]\n",
      " [   0    0    0    0    0 1499]], shape=(6, 6), dtype=int32)\n"
     ]
    }
   ],
   "source": [
    "correct = sum(np.diag(confusion))   # Sum over diagonal elements to count correct predictions\n",
    "print(\"Correct predictions: \",correct,\"of\",len(testY))\n",
    "print(\"Accuracy: \",correct/len(testY) * 100,\"%\")\n",
    "print(confusion)"
   ]
  },
  {
   "cell_type": "code",
   "execution_count": null,
   "metadata": {},
   "outputs": [],
   "source": []
  }
 ],
 "metadata": {
  "interpreter": {
   "hash": "dfb05cc424979442eec2a3b0bd920e21302868e5a81f249557df1c353ee3ddd2"
  },
  "kernelspec": {
   "display_name": "Python 3.9.12 ('mnist')",
   "language": "python",
   "name": "python3"
  },
  "language_info": {
   "codemirror_mode": {
    "name": "ipython",
    "version": 3
   },
   "file_extension": ".py",
   "mimetype": "text/x-python",
   "name": "python",
   "nbconvert_exporter": "python",
   "pygments_lexer": "ipython3",
   "version": "3.9.12"
  },
  "orig_nbformat": 4
 },
 "nbformat": 4,
 "nbformat_minor": 2
}
